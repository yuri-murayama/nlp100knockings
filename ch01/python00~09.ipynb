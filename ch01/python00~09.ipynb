{
 "cells": [
  {
   "cell_type": "code",
   "execution_count": 1,
   "metadata": {},
   "outputs": [
    {
     "name": "stdout",
     "output_type": "stream",
     "text": [
      "stressed\n",
      "desserts\n"
     ]
    }
   ],
   "source": [
    "x='stressed'\n",
    "print(x)\n",
    "print(x[::-1])"
   ]
  },
  {
   "cell_type": "code",
   "execution_count": 2,
   "metadata": {},
   "outputs": [
    {
     "name": "stdout",
     "output_type": "stream",
     "text": [
      "パタトクカシーー\n",
      "パトカー\n"
     ]
    }
   ],
   "source": [
    "x='パタトクカシーー'\n",
    "print(x)\n",
    "print(x[::2])"
   ]
  },
  {
   "cell_type": "code",
   "execution_count": 20,
   "metadata": {},
   "outputs": [
    {
     "name": "stdout",
     "output_type": "stream",
     "text": [
      "パタトクカシーー\n"
     ]
    }
   ],
   "source": [
    "x1='パトカー'\n",
    "x2='タクシー'\n",
    "y=''\n",
    "\n",
    "for i in range(0,len(x1)):\n",
    "    y += x1[i] + x2[i]\n",
    "\n",
    "print(y)"
   ]
  },
  {
   "cell_type": "code",
   "execution_count": 37,
   "metadata": {},
   "outputs": [
    {
     "name": "stdout",
     "output_type": "stream",
     "text": [
      "['Now', 'I', 'need', 'a', 'drink', '', 'alcoholic', 'of', 'course', '', 'after', 'the', 'heavy', 'lectures', 'involving', 'quantum', 'mechanics', '']\n",
      "[3, 1, 4, 1, 5, 9, 2, 6, 5, 3, 5, 8, 9, 7, 9]\n"
     ]
    }
   ],
   "source": [
    "import re\n",
    "\n",
    "x1 = 'Now I need a drink, alcoholic of course, after the heavy lectures involving quantum mechanics.'\n",
    "y1 = re.split(' |,|\\.', x1)\n",
    "print(y1)\n",
    "y2 = [len(x1) for x1 in y1 if len(x1) > 0]\n",
    "print(y2)\n"
   ]
  },
  {
   "cell_type": "code",
   "execution_count": 53,
   "metadata": {},
   "outputs": [
    {
     "name": "stdout",
     "output_type": "stream",
     "text": [
      "['Hi', 'He', 'Lied', 'Because', 'Boron', 'Could', 'Not', 'Oxidize', 'Fluorine', '', 'New', 'Nations', 'Might', 'Also', 'Sign', 'Peace', 'Security', 'Clause', '', 'Arthur', 'King', 'Can', '']\n",
      "{'H': 1, 'He': 2, 'Li': 3, 'Be': 4, 'B': 5, 'C': 6, 'N': 7, 'O': 8, 'F': 9, '': 23, 'Ne': 11, 'Na': 12, 'Mi': 13, 'Al': 14, 'S': 15, 'P': 16, 'Se': 17, 'Cl': 18, 'Ar': 20, 'Ki': 21, 'Ca': 22}\n"
     ]
    }
   ],
   "source": [
    "import re\n",
    "\n",
    "x1 = \"Hi He Lied Because Boron Could Not Oxidize Fluorine. New Nations Might Also Sign Peace Security Clause. Arthur King Can.\"\n",
    "y1 = re.split(' |,|\\.',x1)\n",
    "print(y1)\n",
    "\n",
    "dic = {}\n",
    "for i, name in enumerate(y1,1):\n",
    "    if i in (1, 5, 6, 7, 8, 9, 15, 16, 19):\n",
    "        dic[name.strip('.')[:1]] = i\n",
    "    else:\n",
    "        dic[name.strip('.')[:2]] = i\n",
    "        \n",
    "print(dic)"
   ]
  },
  {
   "cell_type": "code",
   "execution_count": 57,
   "metadata": {},
   "outputs": [
    {
     "name": "stdout",
     "output_type": "stream",
     "text": [
      "['I ', ' a', 'am', 'm ', ' a', 'an', 'n ', ' N', 'NL', 'LP', 'Pe', 'er']\n",
      "[['I', 'am'], ['am', 'an'], ['an', 'NLPer']]\n"
     ]
    }
   ],
   "source": [
    "def ngram(s,n):\n",
    "    x = []\n",
    "    end = len(s) - n + 1\n",
    "    for i in range(end):\n",
    "        x.append(s[i:i+n])\n",
    "    return x\n",
    "\n",
    "y1 = 'I am an NLPer'\n",
    "y2 = ngram(y1,2)\n",
    "print(y2)\n",
    "y3=y1.split()\n",
    "y4=ngram(y3,2)\n",
    "print(y4)"
   ]
  },
  {
   "cell_type": "code",
   "execution_count": 68,
   "metadata": {},
   "outputs": [
    {
     "name": "stdout",
     "output_type": "stream",
     "text": [
      "{'di', 'ap', 'pa', 'ad', 'is', 'ar', 'ra', 'se'}\n",
      "{'ph', 'ap', 'pa', 'ag', 'gr', 'ar', 'ra'}\n",
      "{'ph', 'di', 'ap', 'pa', 'ad', 'ag', 'gr', 'is', 'ar', 'ra', 'se'}\n",
      "{'pa', 'ra', 'ar', 'ap'}\n",
      "{'is', 'di', 'ad', 'se'}\n",
      "True\n",
      "False\n"
     ]
    }
   ],
   "source": [
    "def ngram(s,n):\n",
    "    x = []\n",
    "    end = len(s) - n + 1\n",
    "    for i in range(end):\n",
    "        x.append(s[i:i+n])\n",
    "    return x\n",
    "\n",
    "x1='paraparaparadise'\n",
    "y1='paragraph'\n",
    "X=set(ngram(x1,2))\n",
    "Y=set(ngram(y1,2))\n",
    "\n",
    "OR=X|Y\n",
    "AND=X&Y\n",
    "DIF=X-Y\n",
    "print(X)\n",
    "print(Y)\n",
    "print(OR)\n",
    "print(AND)\n",
    "print(DIF)\n",
    "\n",
    "Z1='se' in X\n",
    "Z2='se' in Y\n",
    "print(Z1)\n",
    "print(Z2)"
   ]
  },
  {
   "cell_type": "code",
   "execution_count": 75,
   "metadata": {},
   "outputs": [
    {
     "name": "stdout",
     "output_type": "stream",
     "text": [
      "12時の気温は22.4\n"
     ]
    }
   ],
   "source": [
    "def s(x,y,z):\n",
    "    msg = \"{0}時の{1}は{2}\".format(x,y,z)\n",
    "    return msg\n",
    "\n",
    "print(s(12,'気温',22.4))"
   ]
  },
  {
   "cell_type": "code",
   "execution_count": 84,
   "metadata": {},
   "outputs": [
    {
     "name": "stdout",
     "output_type": "stream",
     "text": [
      "暗号：svool\n"
     ]
    }
   ],
   "source": [
    "def cipher(s):\n",
    "    msg = ''\n",
    "    for c in s:\n",
    "        if c.islower:\n",
    "            msg += chr(219-ord(c))\n",
    "        else:\n",
    "            msg += c\n",
    "    return msg\n",
    "\n",
    "s = \"hello\"\n",
    "\n",
    "angou = cipher(s)\n",
    "print('暗号：' + angou)"
   ]
  },
  {
   "cell_type": "code",
   "execution_count": null,
   "metadata": {},
   "outputs": [],
   "source": [
    "def typoglycemia(s)\n",
    "\n",
    "msg = ''\n",
    "s2 = s.split(' ')\n",
    "\n",
    "for i in range(len(s2)):\n",
    "    if len(s2) > 4:\n",
    "        word = s2[i]\n",
    "        first = s2[0]\n",
    "        end = s2[-1]\n",
    "        other = s2[1:-1]\n",
    "        "
   ]
  }
 ],
 "metadata": {
  "kernelspec": {
   "display_name": "Python 3",
   "language": "python",
   "name": "python3"
  },
  "language_info": {
   "codemirror_mode": {
    "name": "ipython",
    "version": 3
   },
   "file_extension": ".py",
   "mimetype": "text/x-python",
   "name": "python",
   "nbconvert_exporter": "python",
   "pygments_lexer": "ipython3",
   "version": "3.7.2"
  }
 },
 "nbformat": 4,
 "nbformat_minor": 2
}
