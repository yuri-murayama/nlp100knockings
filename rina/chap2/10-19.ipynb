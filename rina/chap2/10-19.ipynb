{
 "cells": [
  {
   "cell_type": "markdown",
   "metadata": {},
   "source": [
    "#10"
   ]
  },
  {
   "cell_type": "code",
   "execution_count": 1,
   "metadata": {},
   "outputs": [
    {
     "name": "stdout",
     "output_type": "stream",
     "text": [
      "24\n"
     ]
    }
   ],
   "source": [
    "f = open('hightemp.txt')\n",
    "print(len(f.readlines()))\n",
    "\n",
    "f.close()"
   ]
  },
  {
   "cell_type": "markdown",
   "metadata": {},
   "source": [
    "#11"
   ]
  },
  {
   "cell_type": "code",
   "execution_count": 2,
   "metadata": {},
   "outputs": [
    {
     "name": "stdout",
     "output_type": "stream",
     "text": [
      "高知県\t江川崎\t41\t2013-08-12\n",
      "埼玉県\t熊谷\t40.9\t2007-08-16\n",
      "岐阜県\t多治見\t40.9\t2007-08-16\n",
      "山形県\t山形\t40.8\t1933-07-25\n",
      "山梨県\t甲府\t40.7\t2013-08-10\n",
      "和歌山県\tかつらぎ\t40.6\t1994-08-08\n",
      "静岡県\t天竜\t40.6\t1994-08-04\n",
      "山梨県\t勝沼\t40.5\t2013-08-10\n",
      "埼玉県\t越谷\t40.4\t2007-08-16\n",
      "群馬県\t館林\t40.3\t2007-08-16\n",
      "群馬県\t上里見\t40.3\t1998-07-04\n",
      "愛知県\t愛西\t40.3\t1994-08-05\n",
      "千葉県\t牛久\t40.2\t2004-07-20\n",
      "静岡県\t佐久間\t40.2\t2001-07-24\n",
      "愛媛県\t宇和島\t40.2\t1927-07-22\n",
      "山形県\t酒田\t40.1\t1978-08-03\n",
      "岐阜県\t美濃\t40\t2007-08-16\n",
      "群馬県\t前橋\t40\t2001-07-24\n",
      "千葉県\t茂原\t39.9\t2013-08-11\n",
      "埼玉県\t鳩山\t39.9\t1997-07-05\n",
      "大阪府\t豊中\t39.9\t1994-08-08\n",
      "山梨県\t大月\t39.9\t1990-07-19\n",
      "山形県\t鶴岡\t39.9\t1978-08-03\n",
      "愛知県\t名古屋\t39.9\t1942-08-02\n",
      "\n"
     ]
    }
   ],
   "source": [
    "import re\n",
    "\n",
    "with open('hightemp.txt', 'r') as file:\n",
    "    text = re.sub(r'¥t', '¥s', file.read())\n",
    "    print(text)"
   ]
  },
  {
   "cell_type": "markdown",
   "metadata": {},
   "source": [
    "#12"
   ]
  },
  {
   "cell_type": "code",
   "execution_count": 3,
   "metadata": {},
   "outputs": [
    {
     "name": "stdout",
     "output_type": "stream",
     "text": [
      "['高知県', '埼玉県', '岐阜県', '山形県', '山梨県', '和歌山県', '静岡県', '山梨県', '埼玉県', '群馬県', '群馬県', '愛知県', '千葉県', '静岡県', '愛媛県', '山形県', '岐阜県', '群馬県', '千葉県', '埼玉県', '大阪府', '山梨県', '山形県', '愛知県']\n",
      "['江川崎', '熊谷', '多治見', '山形', '甲府', 'かつらぎ', '天竜', '勝沼', '越谷', '館林', '上里見', '愛西', '牛久', '佐久間', '宇和島', '酒田', '美濃', '前橋', '茂原', '鳩山', '豊中', '大月', '鶴岡', '名古屋']\n"
     ]
    }
   ],
   "source": [
    "import re\n",
    "\n",
    "lst1=[]\n",
    "lst2=[]\n",
    "with open('hightemp.txt', 'r') as f:\n",
    "\n",
    "    for s in f:\n",
    "        s=s.split()\n",
    "        s1=s[0]\n",
    "        s2=s[1]\n",
    "        lst1.append(s1)\n",
    "        lst2.append(s2)\n",
    "    \n",
    "    print(lst1)\n",
    "    print(lst2)\n",
    "\n",
    "\n",
    "with open('col1.txt', mode='w') as f1:\n",
    "    f1.writelines(lst1)\n",
    "\n",
    "with open('col2.txt', mode='w') as f2:\n",
    "    f2.writelines(lst2)\n"
   ]
  },
  {
   "cell_type": "code",
   "execution_count": 17,
   "metadata": {},
   "outputs": [
    {
     "name": "stdout",
     "output_type": "stream",
     "text": [
      "高知県埼玉県岐阜県山形県山梨県和歌山県静岡県山梨県埼玉県群馬県群馬県愛知県千葉県静岡県愛媛県山形県岐阜県群馬県千葉県埼玉県大阪府山梨県山形県愛知県\t江川崎熊谷多治見山形甲府かつらぎ天竜勝沼越谷館林上里見愛西牛久佐久間宇和島酒田美濃前橋茂原鳩山豊中大月鶴岡名古屋\n",
      "\n"
     ]
    }
   ],
   "source": [
    "import re\n",
    "\n",
    "    \n",
    "with open(\"col1.txt\", encoding='utf-8') as f:\n",
    "    col1_lines = f.readlines()\n",
    "with open(\"col2.txt\", encoding='utf-8') as f:\n",
    "    col2_lines = f.readlines()\n",
    "    \n",
    "with open(\"merged.txt\", 'w') as f:\n",
    "    for c1, c2 in zip(col1_lines, col2_lines):\n",
    "        c1 = c1.strip()\n",
    "        c2 = c2.strip()\n",
    "        f.write(c1 + '\\t' + c2 + '\\n')\n",
    "    print(c1 + '\\t' + c2 + '\\n')"
   ]
  },
  {
   "cell_type": "code",
   "execution_count": 19,
   "metadata": {},
   "outputs": [
    {
     "name": "stdout",
     "output_type": "stream",
     "text": [
      "2\n",
      "高知県\t江川崎\t41\t2013-08-12\n",
      "埼玉県\t熊谷\t40.9\t2007-08-16\n"
     ]
    }
   ],
   "source": [
    "N = int(input())\n",
    "\n",
    "with open('hightemp.txt') as f:\n",
    "    lines = f.readlines()\n",
    "\n",
    "for i in range(N):\n",
    "    print(lines[i], end=\"\")"
   ]
  },
  {
   "cell_type": "code",
   "execution_count": 18,
   "metadata": {},
   "outputs": [
    {
     "name": "stdout",
     "output_type": "stream",
     "text": [
      "3\n",
      "山梨県\t大月\t39.9\t1990-07-19\n",
      "山形県\t鶴岡\t39.9\t1978-08-03\n",
      "愛知県\t名古屋\t39.9\t1942-08-02\n"
     ]
    }
   ],
   "source": [
    "N = int(input())\n",
    "\n",
    "with open('hightemp.txt') as f:\n",
    "    lines = f.readlines()\n",
    "\n",
    "for i in range(N,0,-1):\n",
    "    print(lines[-i], end=\"\")"
   ]
  },
  {
   "cell_type": "code",
   "execution_count": 21,
   "metadata": {},
   "outputs": [
    {
     "name": "stdout",
     "output_type": "stream",
     "text": [
      "3\n"
     ]
    }
   ],
   "source": [
    "import numpy as np\n",
    "\n",
    "\n",
    "N = int(input())\n",
    "\n",
    "with open('hightemp.txt') as f:\n",
    "    lines = f.readlines()\n",
    "\n",
    "\n",
    "lst = list(np.array_split(lines, N))\n",
    "\n",
    "for i, l in enumerate(lst):\n",
    "    with open(\"output%d.txt\" %i, mode='w') as f:\n",
    "        f.writelines(l)"
   ]
  },
  {
   "cell_type": "code",
   "execution_count": 23,
   "metadata": {},
   "outputs": [
    {
     "name": "stdout",
     "output_type": "stream",
     "text": [
      "{'埼玉県', '高知県', '千葉県', '愛媛県', '大阪府', '山形県', '群馬県', '静岡県', '愛知県', '山梨県', '和歌山県', '岐阜県'}\n"
     ]
    }
   ],
   "source": [
    "list_1 = []\n",
    "with open('hightemp.txt', mode = 'r') as f:\n",
    "\t#1行読み込んでtab区切りでリストへ\n",
    "\tfor text in f:\n",
    "\t\tword_list = text.split('\\t')\n",
    "\t\tlist_1.append(word_list[0])\n",
    "\n",
    "print(set(list_1))\t\t"
   ]
  },
  {
   "cell_type": "code",
   "execution_count": 28,
   "metadata": {},
   "outputs": [
    {
     "name": "stdout",
     "output_type": "stream",
     "text": [
      "['高知県\\t江川崎\\t41\\t2013-08-12\\n' '埼玉県\\t熊谷\\t40.9\\t2007-08-16\\n'\n",
      " '岐阜県\\t多治見\\t40.9\\t2007-08-16\\n' '山形県\\t山形\\t40.8\\t1933-07-25\\n'\n",
      " '山梨県\\t甲府\\t40.7\\t2013-08-10\\n' '和歌山県\\tかつらぎ\\t40.6\\t1994-08-08\\n'\n",
      " '静岡県\\t天竜\\t40.6\\t1994-08-04\\n' '山梨県\\t勝沼\\t40.5\\t2013-08-10\\n'\n",
      " '埼玉県\\t越谷\\t40.4\\t2007-08-16\\n' '群馬県\\t上里見\\t40.3\\t1998-07-04\\n'\n",
      " '群馬県\\t館林\\t40.3\\t2007-08-16\\n' '愛知県\\t愛西\\t40.3\\t1994-08-05\\n'\n",
      " '千葉県\\t牛久\\t40.2\\t2004-07-20\\n' '静岡県\\t佐久間\\t40.2\\t2001-07-24\\n'\n",
      " '愛媛県\\t宇和島\\t40.2\\t1927-07-22\\n' '山形県\\t酒田\\t40.1\\t1978-08-03\\n'\n",
      " '岐阜県\\t美濃\\t40\\t2007-08-16\\n' '群馬県\\t前橋\\t40\\t2001-07-24\\n'\n",
      " '山形県\\t鶴岡\\t39.9\\t1978-08-03\\n' '千葉県\\t茂原\\t39.9\\t2013-08-11\\n'\n",
      " '埼玉県\\t鳩山\\t39.9\\t1997-07-05\\n' '大阪府\\t豊中\\t39.9\\t1994-08-08\\n'\n",
      " '山梨県\\t大月\\t39.9\\t1990-07-19\\n' '愛知県\\t名古屋\\t39.9\\t1942-08-02\\n']\n"
     ]
    }
   ],
   "source": [
    "import numpy as np\n",
    "\n",
    "# ファイルを読み込み、3列目のみ取り出してリストにしておく\n",
    "list_3 = []\n",
    "text_list = []\n",
    "with open('hightemp.txt', mode = 'r') as f:\n",
    "\t# 1行読み込んでtab区切りでリストへ\n",
    "\tfor text in f:\n",
    "\t\ttext_list.append(text)\n",
    "\t\tword_list = text.split('\\t')\n",
    "\t\tlist_3.append(word_list[2])\n",
    "\n",
    "# 3列目で逆順ソートした時のindexを取り出しておく\n",
    "sorted_index = np.argsort(list_3)[::-1]\n",
    "\n",
    "# 求めたindexでテキスト全体をソート\n",
    "text_list = np.array(text_list)[sorted_index]\n",
    "\n",
    "#ファイルに書き込み\n",
    "with open('hightemp_reverse.txt', mode = 'w') as f:\n",
    "\tf.writelines(text_list)\n",
    "print(text_list)"
   ]
  },
  {
   "cell_type": "code",
   "execution_count": null,
   "metadata": {},
   "outputs": [],
   "source": []
  }
 ],
 "metadata": {
  "kernelspec": {
   "display_name": "Python 3",
   "language": "python",
   "name": "python3"
  },
  "language_info": {
   "codemirror_mode": {
    "name": "ipython",
    "version": 3
   },
   "file_extension": ".py",
   "mimetype": "text/x-python",
   "name": "python",
   "nbconvert_exporter": "python",
   "pygments_lexer": "ipython3",
   "version": "3.7.1"
  }
 },
 "nbformat": 4,
 "nbformat_minor": 2
}
