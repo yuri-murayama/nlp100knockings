{
 "cells": [
  {
   "cell_type": "code",
   "execution_count": 8,
   "metadata": {},
   "outputs": [
    {
     "data": {
      "text/plain": [
       "'desserts'"
      ]
     },
     "execution_count": 8,
     "metadata": {},
     "output_type": "execute_result"
    }
   ],
   "source": [
    "a='stressed'\n",
    "a[::-1]"
   ]
  },
  {
   "cell_type": "code",
   "execution_count": 13,
   "metadata": {},
   "outputs": [
    {
     "data": {
      "text/plain": [
       "'パトカー'"
      ]
     },
     "execution_count": 13,
     "metadata": {},
     "output_type": "execute_result"
    }
   ],
   "source": [
    "b='パタトクカシーー'\n",
    "b[0:7:2]"
   ]
  },
  {
   "cell_type": "code",
   "execution_count": 19,
   "metadata": {},
   "outputs": [
    {
     "name": "stdout",
     "output_type": "stream",
     "text": [
      "パタトクカシーー"
     ]
    }
   ],
   "source": [
    "c='パトカー'\n",
    "d='タクシー'\n",
    "e=c+d\n",
    "for i in range(4):\n",
    "    print(e[i:8:4],end=\"\")\n"
   ]
  },
  {
   "cell_type": "code",
   "execution_count": 36,
   "metadata": {},
   "outputs": [
    {
     "name": "stdout",
     "output_type": "stream",
     "text": [
      "Now I need a drink alcoholic of course after the heavy lectures involving quantum mechanics\n",
      "3\n",
      "1\n",
      "4\n",
      "1\n",
      "5\n",
      "9\n",
      "2\n",
      "6\n",
      "5\n",
      "3\n",
      "5\n",
      "8\n",
      "9\n",
      "7\n",
      "9\n"
     ]
    }
   ],
   "source": [
    "f='Now I need a drink, alcoholic of course, after the heavy lectures involving quantum mechanics.'\n",
    "f=f.replace(',','')\n",
    "f=f.replace('.','')\n",
    "print(f)\n",
    "f=f.split()\n",
    "for s in f:\n",
    "    print(len(s))\n",
    "\n"
   ]
  },
  {
   "cell_type": "code",
   "execution_count": 60,
   "metadata": {},
   "outputs": [
    {
     "name": "stdout",
     "output_type": "stream",
     "text": [
      "Hi He Lied Because Boron Could Not Oxidize Fluorine New Nations Might Also Sign Peace Security Clause Arthur King Can\n",
      "HHeLiBeBCNOFNeNaMiAlSiPSClArKCa1\n"
     ]
    }
   ],
   "source": [
    "a='Hi He Lied Because Boron Could Not Oxidize Fluorine. New Nations Might Also Sign Peace Security Clause. Arthur King Can.'\n",
    "a=a.replace('.','')\n",
    "print(a)\n",
    "a=a.split()\n",
    "list=[0, 4, 5, 6, 7, 8, 14, 15, 18]\n",
    "for b, name in enumerate(a):\n",
    "    if b in list:\n",
    "        name=name[0]\n",
    "        print(name,end=\"\")\n",
    "    else:\n",
    "        name=name[0]+name[1]\n",
    "        print(name,end=\"\")\n",
    "dict={\"H\":0,\"He\":1,\"Li\":2,\"Be\":3,\"B\":4,\"C\":5,\"N\":6,\"O\":7,\"F\":8,\"Ne\":9,\"Na\":10,\"Mi\":11,\"Al\":12,\"Si\":13,\"P\":14,\"S\":15,\"Cl\":16,\"Ar\":17,\"K\":18,\"Ca\":19}"
   ]
  },
  {
   "cell_type": "code",
   "execution_count": null,
   "metadata": {},
   "outputs": [],
   "source": [
    "a='I am an NLPer'\n",
    "def "
   ]
  },
  {
   "cell_type": "code",
   "execution_count": null,
   "metadata": {},
   "outputs": [],
   "source": []
  }
 ],
 "metadata": {
  "kernelspec": {
   "display_name": "Python 3",
   "language": "python",
   "name": "python3"
  },
  "language_info": {
   "codemirror_mode": {
    "name": "ipython",
    "version": 3
   },
   "file_extension": ".py",
   "mimetype": "text/x-python",
   "name": "python",
   "nbconvert_exporter": "python",
   "pygments_lexer": "ipython3",
   "version": "3.7.1"
  }
 },
 "nbformat": 4,
 "nbformat_minor": 2
}
