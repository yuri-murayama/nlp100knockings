{
 "cells": [
  {
   "cell_type": "code",
   "execution_count": null,
   "metadata": {},
   "outputs": [],
   "source": [
    "a='stressed'\n",
    "a[::-1]"
   ]
  },
  {
   "cell_type": "code",
   "execution_count": null,
   "metadata": {},
   "outputs": [],
   "source": [
    "b='パタトクカシーー'\n",
    "b[::2]"
   ]
  },
  {
   "cell_type": "code",
   "execution_count": null,
   "metadata": {},
   "outputs": [],
   "source": [
    "c='パトカー'\n",
    "d='タクシー'\n",
    "e=c+d\n",
    "for i in range(4):\n",
    "    print(e[i:8:4],end=\"\")\n"
   ]
  },
  {
   "cell_type": "code",
   "execution_count": null,
   "metadata": {},
   "outputs": [],
   "source": [
    "f='Now I need a drink, alcoholic of course, after the heavy lectures involving quantum mechanics.'\n",
    "f=f.replace(',','')\n",
    "f=f.replace('.','')\n",
    "print(f)\n",
    "f=f.split()\n",
    "for s in f:\n",
    "    print(len(s),end=\"\")\n",
    "\n"
   ]
  },
  {
   "cell_type": "code",
   "execution_count": 1,
   "metadata": {},
   "outputs": [
    {
     "name": "stdout",
     "output_type": "stream",
     "text": [
      "Hi He Lied Because Boron Could Not Oxidize Fluorine New Nations Might Also Sign Peace Security Clause Arthur King Can\n",
      "HHeLiBeBCNOFNeNaMiAlSiPSClArKCa"
     ]
    }
   ],
   "source": [
    "a='Hi He Lied Because Boron Could Not Oxidize Fluorine. New Nations Might Also Sign Peace Security Clause. Arthur King Can.'\n",
    "a=a.replace('.','')\n",
    "print(a)\n",
    "a=a.split()\n",
    "lst=[0, 4, 5, 6, 7, 8, 14, 15, 18]\n",
    "for b, name in enumerate(a):\n",
    "    if b in lst:\n",
    "        name=name[0]\n",
    "        print(name,end=\"\")\n",
    "    else:\n",
    "        name=name[0]+name[1]\n",
    "        print(name,end=\"\")\n",
    "dict={\"H\":0,\"He\":1,\"Li\":2,\"Be\":3,\"B\":4,\"C\":5,\"N\":6,\"O\":7,\"F\":8,\"Ne\":9,\"Na\":10,\"Mi\":11,\"Al\":12,\"Si\":13,\"P\":14,\"S\":15,\"Cl\":16,\"Ar\":17,\"K\":18,\"Ca\":19}"
   ]
  },
  {
   "cell_type": "code",
   "execution_count": null,
   "metadata": {},
   "outputs": [],
   "source": [
    "sentence='I am an NLPer'\n",
    "def word_n_gram(sentence, N):\n",
    "    words = sentence.split()\n",
    "    result = []\n",
    "    for it, c in enumerate(words):\n",
    "        if it + N > len(words):\n",
    "            return result\n",
    "        result.append(words[it: it+N])\n",
    "print(word_n_gram(sentence, N=2))"
   ]
  },
  {
   "cell_type": "code",
   "execution_count": null,
   "metadata": {},
   "outputs": [],
   "source": [
    "import re\n",
    "sentence='I am an NLPer'\n",
    "def char_n_gram(sentence, N):\n",
    "    result=[]\n",
    "    for it in range(len(sentence)):\n",
    "        if it+N >len(sentence):\n",
    "            return result\n",
    "        result.append(sentence[it:it+N])\n",
    "print(char_n_gram(sentence,N=2))"
   ]
  },
  {
   "cell_type": "code",
   "execution_count": null,
   "metadata": {},
   "outputs": [],
   "source": [
    "import re\n",
    "sentence1='paraparaparadise'\n",
    "sentence2='paragraph'\n",
    "def char_n_gram(sentence, N):\n",
    "    result=[]\n",
    "    for it in range(len(sentence)):\n",
    "        if it+N >len(sentence):\n",
    "            return result\n",
    "        result.append(sentence[it:it+N])\n",
    "x=char_n_gram(sentence1,N=2)\n",
    "y=char_n_gram(sentence2,N=2)\n",
    "print(x)\n",
    "print(y)\n",
    "print(x+y)\n",
    "print(set(x)&set(y))\n",
    "print(set(x)-set(y))\n",
    "print(\"se\" in x+y)"
   ]
  },
  {
   "cell_type": "code",
   "execution_count": null,
   "metadata": {},
   "outputs": [],
   "source": [
    "x=12\n",
    "y=\"気温\"\n",
    "z=22.4\n",
    "def template(x, y, z):\n",
    "    return \"{0}時の{1}は{2}\".format(x, y, z)\n",
    "print(template(x,y,z))"
   ]
  },
  {
   "cell_type": "code",
   "execution_count": null,
   "metadata": {},
   "outputs": [],
   "source": [
    "import re\n",
    "def cipher(src):\n",
    "    return re.sub(r'[a-z]', lambda m: chr(219 - ord(m.group(0))), src)\n",
    "text='My name is Rina'\n",
    "print(cipher(text))\n",
    "print(cipher(cipher(text)))"
   ]
  },
  {
   "cell_type": "code",
   "execution_count": null,
   "metadata": {},
   "outputs": [],
   "source": []
  },
  {
   "cell_type": "code",
   "execution_count": null,
   "metadata": {},
   "outputs": [],
   "source": []
  },
  {
   "cell_type": "code",
   "execution_count": null,
   "metadata": {},
   "outputs": [],
   "source": []
  },
  {
   "cell_type": "code",
   "execution_count": 3,
   "metadata": {},
   "outputs": [
    {
     "name": "stdout",
     "output_type": "stream",
     "text": [
      "I cn'lduot beivlee that I cluod aulltacy unntresadd what I was radenig : the pnemneohal pweor of the haumn mind .\n"
     ]
    }
   ],
   "source": [
    "import random\n",
    "\n",
    "s = \"I couldn't believe that I could actually understand what I was reading : the phenomenal power of the human mind .\"\n",
    "s = s.split()\n",
    "\n",
    "lst = []\n",
    "for w in s:\n",
    "    if len(w) > 4:\n",
    "        w_naka = list(w[1:-1])\n",
    "        random.shuffle(w_naka)\n",
    "        w_naka = ''.join(w_naka)\n",
    "        w = w[0] + w_naka + w[-1]\n",
    "    lst.append(w)\n",
    "\n",
    "print(' '.join(lst))"
   ]
  },
  {
   "cell_type": "code",
   "execution_count": null,
   "metadata": {},
   "outputs": [],
   "source": []
  }
 ],
 "metadata": {
  "kernelspec": {
   "display_name": "Python 3",
   "language": "python",
   "name": "python3"
  },
  "language_info": {
   "codemirror_mode": {
    "name": "ipython",
    "version": 3
   },
   "file_extension": ".py",
   "mimetype": "text/x-python",
   "name": "python",
   "nbconvert_exporter": "python",
   "pygments_lexer": "ipython3",
   "version": "3.7.1"
  }
 },
 "nbformat": 4,
 "nbformat_minor": 2
}
