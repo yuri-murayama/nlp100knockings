{
 "cells": [
  {
   "cell_type": "code",
   "execution_count": 8,
   "metadata": {},
   "outputs": [
    {
     "data": {
      "text/plain": [
       "'desserts'"
      ]
     },
     "execution_count": 8,
     "metadata": {},
     "output_type": "execute_result"
    }
   ],
   "source": [
    "a='stressed'\n",
    "a[::-1]"
   ]
  },
  {
   "cell_type": "code",
   "execution_count": 13,
   "metadata": {},
   "outputs": [
    {
     "data": {
      "text/plain": [
       "'パトカー'"
      ]
     },
     "execution_count": 13,
     "metadata": {},
     "output_type": "execute_result"
    }
   ],
   "source": [
    "b='パタトクカシーー'\n",
    "b[0:7:2]"
   ]
  },
  {
   "cell_type": "code",
   "execution_count": 19,
   "metadata": {},
   "outputs": [
    {
     "name": "stdout",
     "output_type": "stream",
     "text": [
      "パタトクカシーー"
     ]
    }
   ],
   "source": [
    "c='パトカー'\n",
    "d='タクシー'\n",
    "e=c+d\n",
    "for i in range(4):\n",
    "    print(e[i:8:4],end=\"\")\n"
   ]
  },
  {
   "cell_type": "code",
   "execution_count": 36,
   "metadata": {},
   "outputs": [
    {
     "name": "stdout",
     "output_type": "stream",
     "text": [
      "Now I need a drink alcoholic of course after the heavy lectures involving quantum mechanics\n",
      "3\n",
      "1\n",
      "4\n",
      "1\n",
      "5\n",
      "9\n",
      "2\n",
      "6\n",
      "5\n",
      "3\n",
      "5\n",
      "8\n",
      "9\n",
      "7\n",
      "9\n"
     ]
    }
   ],
   "source": [
    "f='Now I need a drink, alcoholic of course, after the heavy lectures involving quantum mechanics.'\n",
    "f=f.replace(',','')\n",
    "f=f.replace('.','')\n",
    "print(f)\n",
    "f=f.split()\n",
    "for s in f:\n",
    "    print(len(s))\n",
    "\n"
   ]
  },
  {
   "cell_type": "code",
   "execution_count": 60,
   "metadata": {},
   "outputs": [
    {
     "name": "stdout",
     "output_type": "stream",
     "text": [
      "Hi He Lied Because Boron Could Not Oxidize Fluorine New Nations Might Also Sign Peace Security Clause Arthur King Can\n",
      "HHeLiBeBCNOFNeNaMiAlSiPSClArKCa1\n"
     ]
    }
   ],
   "source": [
    "a='Hi He Lied Because Boron Could Not Oxidize Fluorine. New Nations Might Also Sign Peace Security Clause. Arthur King Can.'\n",
    "a=a.replace('.','')\n",
    "print(a)\n",
    "a=a.split()\n",
    "list=[0, 4, 5, 6, 7, 8, 14, 15, 18]\n",
    "for b, name in enumerate(a):\n",
    "    if b in list:\n",
    "        name=name[0]\n",
    "        print(name,end=\"\")\n",
    "    else:\n",
    "        name=name[0]+name[1]\n",
    "        print(name,end=\"\")\n",
    "dict={\"H\":0,\"He\":1,\"Li\":2,\"Be\":3,\"B\":4,\"C\":5,\"N\":6,\"O\":7,\"F\":8,\"Ne\":9,\"Na\":10,\"Mi\":11,\"Al\":12,\"Si\":13,\"P\":14,\"S\":15,\"Cl\":16,\"Ar\":17,\"K\":18,\"Ca\":19}"
   ]
  },
  {
   "cell_type": "code",
   "execution_count": 3,
   "metadata": {},
   "outputs": [
    {
     "name": "stdout",
     "output_type": "stream",
     "text": [
      "[['I', 'am'], ['am', 'an'], ['an', 'NLPer']]\n"
     ]
    }
   ],
   "source": [
    "sentence='I am an NLPer'\n",
    "def word_n_gram(sentence, N):\n",
    "    words = sentence.split()\n",
    "    result = []\n",
    "    for it, c in enumerate(words):\n",
    "        if it + N > len(words):\n",
    "            return result\n",
    "        result.append(words[it: it+N])\n",
    "print(word_n_gram(sentence, N=2))"
   ]
  },
  {
   "cell_type": "code",
   "execution_count": 4,
   "metadata": {},
   "outputs": [
    {
     "name": "stdout",
     "output_type": "stream",
     "text": [
      "['I ', ' a', 'am', 'm ', ' a', 'an', 'n ', ' N', 'NL', 'LP', 'Pe', 'er']\n"
     ]
    }
   ],
   "source": [
    "import re\n",
    "sentence='I am an NLPer'\n",
    "def char_n_gram(sentence, N):\n",
    "    result=[]\n",
    "    for it in range(len(sentence)):\n",
    "        if it+N >len(sentence):\n",
    "            return result\n",
    "        result.append(sentence[it:it+N])\n",
    "print(char_n_gram(sentence,N=2))"
   ]
  },
  {
   "cell_type": "code",
   "execution_count": 18,
   "metadata": {},
   "outputs": [
    {
     "name": "stdout",
     "output_type": "stream",
     "text": [
      "['pa', 'ar', 'ra', 'ap', 'pa', 'ar', 'ra', 'ap', 'pa', 'ar', 'ra', 'ad', 'di', 'is', 'se']\n",
      "['pa', 'ar', 'ra', 'ag', 'gr', 'ra', 'ap', 'ph']\n",
      "['pa', 'ar', 'ra', 'ap', 'pa', 'ar', 'ra', 'ap', 'pa', 'ar', 'ra', 'ad', 'di', 'is', 'se', 'pa', 'ar', 'ra', 'ag', 'gr', 'ra', 'ap', 'ph']\n",
      "{'ap', 'pa', 'ra', 'ar'}\n",
      "{'di', 'is', 'se', 'ad'}\n",
      "True\n"
     ]
    }
   ],
   "source": [
    "import re\n",
    "sentence1='paraparaparadise'\n",
    "sentence2='paragraph'\n",
    "def char_n_gram(sentence, N):\n",
    "    result=[]\n",
    "    for it in range(len(sentence)):\n",
    "        if it+N >len(sentence):\n",
    "            return result\n",
    "        result.append(sentence[it:it+N])\n",
    "x=char_n_gram(sentence1,N=2)\n",
    "y=char_n_gram(sentence2,N=2)\n",
    "print(x)\n",
    "print(y)\n",
    "print(x+y)\n",
    "print(set(x)&set(y))\n",
    "print(set(x)-set(y))\n",
    "print(\"se\" in x+y)"
   ]
  },
  {
   "cell_type": "code",
   "execution_count": 20,
   "metadata": {},
   "outputs": [
    {
     "name": "stdout",
     "output_type": "stream",
     "text": [
      "12時の気温は22.4\n"
     ]
    }
   ],
   "source": [
    "x=12\n",
    "y=\"気温\"\n",
    "z=22.4\n",
    "def template(x, y, z):\n",
    "    return \"{0}時の{1}は{2}\".format(x, y, z)\n",
    "print(template(x,y,z))"
   ]
  },
  {
   "cell_type": "code",
   "execution_count": 22,
   "metadata": {},
   "outputs": [
    {
     "name": "stdout",
     "output_type": "stream",
     "text": [
      "Mb mznv rh Rrmz\n",
      "My name is Rina\n"
     ]
    }
   ],
   "source": [
    "import re\n",
    "def cipher(src):\n",
    "    return re.sub(r'[a-z]', lambda m: chr(219 - ord(m.group(0))), src)\n",
    "text='My name is Rina'\n",
    "print(cipher(text))\n",
    "print(cipher(cipher(text)))"
   ]
  },
  {
   "cell_type": "code",
   "execution_count": 37,
   "metadata": {},
   "outputs": [
    {
     "ename": "IndexError",
     "evalue": "list index out of range",
     "output_type": "error",
     "traceback": [
      "\u001b[0;31m---------------------------------------------------------------------------\u001b[0m",
      "\u001b[0;31mIndexError\u001b[0m                                Traceback (most recent call last)",
      "\u001b[0;32m<ipython-input-37-fd520367d291>\u001b[0m in \u001b[0;36m<module>\u001b[0;34m\u001b[0m\n\u001b[1;32m     34\u001b[0m             \u001b[0mresult\u001b[0m \u001b[0;34m+=\u001b[0m \u001b[0;34m(\u001b[0m\u001b[0;34m' '\u001b[0m \u001b[0;34m+\u001b[0m \u001b[0mresultList\u001b[0m\u001b[0;34m[\u001b[0m\u001b[0mii\u001b[0m\u001b[0;34m]\u001b[0m\u001b[0;34m)\u001b[0m\u001b[0;34m\u001b[0m\u001b[0;34m\u001b[0m\u001b[0m\n\u001b[1;32m     35\u001b[0m     \u001b[0;32mreturn\u001b[0m \u001b[0mresult\u001b[0m\u001b[0;34m\u001b[0m\u001b[0;34m\u001b[0m\u001b[0m\n\u001b[0;32m---> 36\u001b[0;31m \u001b[0mgenerateTypoglycemia\u001b[0m\u001b[0;34m(\u001b[0m\u001b[0;34m\"I couldn't believe that I could actually understand what I was reading : the phenomenal power of the human mind.\"\u001b[0m\u001b[0;34m)\u001b[0m\u001b[0;34m\u001b[0m\u001b[0;34m\u001b[0m\u001b[0m\n\u001b[0m",
      "\u001b[0;32m<ipython-input-37-fd520367d291>\u001b[0m in \u001b[0;36mgenerateTypoglycemia\u001b[0;34m(sentense)\u001b[0m\n\u001b[1;32m     27\u001b[0m             \u001b[0mresultList\u001b[0m\u001b[0;34m.\u001b[0m\u001b[0minsert\u001b[0m\u001b[0;34m(\u001b[0m\u001b[0mi\u001b[0m\u001b[0;34m,\u001b[0m \u001b[0mwordsList\u001b[0m\u001b[0;34m[\u001b[0m\u001b[0mi\u001b[0m\u001b[0;34m]\u001b[0m\u001b[0;34m)\u001b[0m\u001b[0;34m\u001b[0m\u001b[0;34m\u001b[0m\u001b[0m\n\u001b[1;32m     28\u001b[0m         \u001b[0;32melif\u001b[0m \u001b[0mlen\u001b[0m\u001b[0;34m(\u001b[0m\u001b[0mwordsList\u001b[0m\u001b[0;34m[\u001b[0m\u001b[0mi\u001b[0m\u001b[0;34m]\u001b[0m\u001b[0;34m)\u001b[0m \u001b[0;34m>\u001b[0m \u001b[0;36m4\u001b[0m\u001b[0;34m:\u001b[0m\u001b[0;34m\u001b[0m\u001b[0;34m\u001b[0m\u001b[0m\n\u001b[0;32m---> 29\u001b[0;31m             \u001b[0mresultList\u001b[0m\u001b[0;34m.\u001b[0m\u001b[0minsert\u001b[0m\u001b[0;34m(\u001b[0m\u001b[0mi\u001b[0m\u001b[0;34m,\u001b[0m \u001b[0mradomizeWord\u001b[0m\u001b[0;34m(\u001b[0m\u001b[0mwordsList\u001b[0m\u001b[0;34m[\u001b[0m\u001b[0mi\u001b[0m\u001b[0;34m]\u001b[0m\u001b[0;34m)\u001b[0m\u001b[0;34m)\u001b[0m\u001b[0;34m\u001b[0m\u001b[0;34m\u001b[0m\u001b[0m\n\u001b[0m\u001b[1;32m     30\u001b[0m     \u001b[0;32mfor\u001b[0m \u001b[0mii\u001b[0m \u001b[0;32min\u001b[0m \u001b[0mrange\u001b[0m \u001b[0;34m(\u001b[0m\u001b[0;36m0\u001b[0m\u001b[0;34m,\u001b[0m \u001b[0mlen\u001b[0m\u001b[0;34m(\u001b[0m\u001b[0mresultList\u001b[0m\u001b[0;34m)\u001b[0m\u001b[0;34m)\u001b[0m \u001b[0;34m:\u001b[0m\u001b[0;34m\u001b[0m\u001b[0;34m\u001b[0m\u001b[0m\n\u001b[1;32m     31\u001b[0m         \u001b[0;32mif\u001b[0m \u001b[0mii\u001b[0m \u001b[0;34m==\u001b[0m \u001b[0;36m0\u001b[0m \u001b[0;34m:\u001b[0m\u001b[0;34m\u001b[0m\u001b[0;34m\u001b[0m\u001b[0m\n",
      "\u001b[0;32m<ipython-input-37-fd520367d291>\u001b[0m in \u001b[0;36mradomizeWord\u001b[0;34m(word)\u001b[0m\n\u001b[1;32m     10\u001b[0m         \u001b[0mnewList\u001b[0m\u001b[0;34m.\u001b[0m\u001b[0minsert\u001b[0m\u001b[0;34m(\u001b[0m\u001b[0mcnt\u001b[0m\u001b[0;34m,\u001b[0m \u001b[0mcharList\u001b[0m\u001b[0;34m[\u001b[0m\u001b[0mcnt\u001b[0m\u001b[0;34m]\u001b[0m\u001b[0;34m)\u001b[0m\u001b[0;34m\u001b[0m\u001b[0;34m\u001b[0m\u001b[0m\n\u001b[1;32m     11\u001b[0m         \u001b[0mcharList\u001b[0m\u001b[0;34m.\u001b[0m\u001b[0mpop\u001b[0m\u001b[0;34m(\u001b[0m\u001b[0;34m)\u001b[0m\u001b[0;34m\u001b[0m\u001b[0;34m\u001b[0m\u001b[0m\n\u001b[0;32m---> 12\u001b[0;31m         \u001b[0mnewList\u001b[0m\u001b[0;34m.\u001b[0m\u001b[0minsert\u001b[0m\u001b[0;34m(\u001b[0m\u001b[0;36m0\u001b[0m\u001b[0;34m,\u001b[0m \u001b[0mcharList\u001b[0m\u001b[0;34m[\u001b[0m\u001b[0;36m0\u001b[0m\u001b[0;34m]\u001b[0m\u001b[0;34m)\u001b[0m\u001b[0;34m\u001b[0m\u001b[0;34m\u001b[0m\u001b[0m\n\u001b[0m\u001b[1;32m     13\u001b[0m         \u001b[0mcharList\u001b[0m\u001b[0;34m.\u001b[0m\u001b[0mpop\u001b[0m\u001b[0;34m(\u001b[0m\u001b[0;36m0\u001b[0m\u001b[0;34m)\u001b[0m\u001b[0;34m\u001b[0m\u001b[0;34m\u001b[0m\u001b[0m\n\u001b[1;32m     14\u001b[0m     \u001b[0;32mfor\u001b[0m \u001b[0mii\u001b[0m \u001b[0;32min\u001b[0m \u001b[0mrange\u001b[0m \u001b[0;34m(\u001b[0m\u001b[0;36m0\u001b[0m\u001b[0;34m,\u001b[0m \u001b[0mlen\u001b[0m\u001b[0;34m(\u001b[0m\u001b[0mcharList\u001b[0m\u001b[0;34m)\u001b[0m\u001b[0;34m)\u001b[0m\u001b[0;34m:\u001b[0m\u001b[0;34m\u001b[0m\u001b[0;34m\u001b[0m\u001b[0m\n",
      "\u001b[0;31mIndexError\u001b[0m: list index out of range"
     ]
    }
   ],
   "source": [
    "import random\n",
    "import re\n",
    "def radomizeWord(word):\n",
    "    charList = []\n",
    "    newList = []\n",
    "    result = []\n",
    "    for i in range(0, len(word)):\n",
    "        charList.insert(i, word[i])\n",
    "        cnt = len(charList)-1\n",
    "        newList.insert(cnt, charList[cnt])\n",
    "        charList.pop()\n",
    "        newList.insert(0, charList[0])\n",
    "        charList.pop(0)\n",
    "    for ii in range (0, len(charList)):\n",
    "        num = random.randrange(0, len(charList))\n",
    "        newList.insert(ii+1, charList[num])\n",
    "        charList.pop(num)\n",
    "    for iii in range(0, len(newList)):\n",
    "        result += newList[iii]\n",
    "    return result\n",
    "def generateTypoglycemia(sentense):\n",
    "    wordsList = re.split('\\s', sentense)\n",
    "    resultList = []\n",
    "    result = []\n",
    "    for i in range (0, len(wordsList)) :\n",
    "        if len(wordsList[i]) <= 4:\n",
    "            resultList.insert(i, wordsList[i])\n",
    "        elif len(wordsList[i]) > 4:\n",
    "            resultList.insert(i, radomizeWord(wordsList[i]))\n",
    "    for ii in range (0, len(resultList)) :\n",
    "        if ii == 0 :\n",
    "            result += resultList[ii]\n",
    "        elif ii != 0 :\n",
    "            result += (' ' + resultList[ii])\n",
    "    return result\n",
    "generateTypoglycemia(\"I couldn't believe that I could actually understand what I was reading : the phenomenal power of the human mind.\")"
   ]
  },
  {
   "cell_type": "code",
   "execution_count": null,
   "metadata": {},
   "outputs": [],
   "source": []
  },
  {
   "cell_type": "code",
   "execution_count": null,
   "metadata": {},
   "outputs": [],
   "source": []
  }
 ],
 "metadata": {
  "kernelspec": {
   "display_name": "Python 3",
   "language": "python",
   "name": "python3"
  },
  "language_info": {
   "codemirror_mode": {
    "name": "ipython",
    "version": 3
   },
   "file_extension": ".py",
   "mimetype": "text/x-python",
   "name": "python",
   "nbconvert_exporter": "python",
   "pygments_lexer": "ipython3",
   "version": "3.7.3"
  }
 },
 "nbformat": 4,
 "nbformat_minor": 2
}
