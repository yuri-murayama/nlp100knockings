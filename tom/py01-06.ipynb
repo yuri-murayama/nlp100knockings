{
 "cells": [
  {
   "cell_type": "code",
   "execution_count": 1,
   "metadata": {},
   "outputs": [
    {
     "name": "stdout",
     "output_type": "stream",
     "text": [
      "タクシー\n"
     ]
    }
   ],
   "source": [
    "s=\"パタトクカシーー\"\n",
    "print(s[1::2])\n"
   ]
  },
  {
   "cell_type": "code",
   "execution_count": 6,
   "metadata": {},
   "outputs": [
    {
     "name": "stdout",
     "output_type": "stream",
     "text": [
      "パタトクカシーー\n"
     ]
    }
   ],
   "source": [
    "s1=\"パトカー\"\n",
    "s2=\"タクシー\"\n",
    "s3=''\n",
    "\n",
    "for i in range(len(s1)):\n",
    "    s3 +=s1[i]+s2[i]\n",
    "    \n",
    "print(s3)\n"
   ]
  },
  {
   "cell_type": "code",
   "execution_count": 22,
   "metadata": {},
   "outputs": [
    {
     "name": "stdout",
     "output_type": "stream",
     "text": [
      "[3, 1, 4, 1, 5, 9, 2, 6, 5, 3, 5, 8, 9, 7, 9]\n"
     ]
    }
   ],
   "source": [
    "\n",
    "\n",
    "s=\"Now I need a drink, alcoholic of course, after the heavy lectures involving quantum mechanics.\"\n",
    "\n",
    "s= s.replace('.', \"\")\n",
    "s= s.replace(',', \"\")\n",
    "s= s.split()\n",
    "\n",
    "list = []\n",
    "\n",
    "for i in s:\n",
    "    list.append(len(i))\n",
    "\n",
    "print(list)\n",
    "\n"
   ]
  },
  {
   "cell_type": "code",
   "execution_count": 35,
   "metadata": {},
   "outputs": [
    {
     "name": "stdout",
     "output_type": "stream",
     "text": [
      "[('H', 1), ('He', 2), ('Li', 3), ('Be', 4), ('B', 5), ('C', 6), ('N', 7), ('O', 8), ('F', 9), ('Ne', 10), ('Na', 11), ('Mi', 12), ('Al', 13), ('Si', 14), ('P', 15), ('S', 16), ('Cl', 17), ('Ar', 18), ('K', 19), ('Ca', 20)]\n"
     ]
    }
   ],
   "source": [
    "s = \"Hi He Lied Because Boron Could Not Oxidize Fluorine. New Nations Might Also Sign Peace Security Clause. Arthur King Can.\"\n",
    "s = s.split()\n",
    "\n",
    "dict = {}\n",
    "single = [1, 5, 6, 7, 8, 9, 15, 16, 19]\n",
    "\n",
    "for i in s:\n",
    "    if s.index(i) + 1 in single:\n",
    "        dict[i[:1]] = s.index(i) + 1\n",
    "    else:\n",
    "        dict[i[:2]] = s.index(i) + 1\n",
    "\n",
    "d2=sorted(dict.items(), key=lambda x: x[1])\n",
    "print (d2)\n",
    "\n",
    "\n"
   ]
  },
  {
   "cell_type": "code",
   "execution_count": 44,
   "metadata": {},
   "outputs": [
    {
     "name": "stdout",
     "output_type": "stream",
     "text": [
      "['Ia', 'am', 'ma', 'an', 'nN', 'NL', 'LP', 'Pe', 'er']\n"
     ]
    }
   ],
   "source": [
    "s1=\"I am an NLPer\"\n",
    "s1=s1.replace(\" \", \"\") \n",
    "def ngram(input, n):\n",
    "    last = len(input) - n + 1\n",
    "    ret = []\n",
    "    for i in range(0, last):\n",
    "        ret.append(input[i:i+n])\n",
    "    return ret\n",
    "\n",
    "s2=ngram(s1,2)\n",
    "print (s2)"
   ]
  },
  {
   "cell_type": "code",
   "execution_count": 54,
   "metadata": {},
   "outputs": [
    {
     "name": "stdout",
     "output_type": "stream",
     "text": [
      "{'ad', 'is', 'ap', 'ar', 'gr', 'ag', 'se', 'ra', 'di', 'pa', 'ph'}\n",
      "{'ar', 'ra', 'pa', 'ap'}\n",
      "{'di', 'is', 'ad', 'se'}\n"
     ]
    }
   ],
   "source": [
    "s1=\"paraparaparadise\"\n",
    "s2=\"paragraph\"\n",
    "def ngram(input, n):\n",
    "    last = len(input) - n + 1\n",
    "    ret = []\n",
    "    for i in range(0, last):\n",
    "        ret.append(input[i:i+n])\n",
    "    return ret\n",
    "\n",
    "n1=ngram(s1,2)\n",
    "n2=ngram(s2,2)\n",
    "\n",
    "s_n1=set(n1)\n",
    "s_n2=set(n2)\n",
    "\n",
    "s_wa=s_n1|s_n2\n",
    "print(s_wa)\n",
    "\n",
    "s_seki=s_n1&s_n2\n",
    "print(s_seki)\n",
    "\n",
    "s_sa=s_n1-s_n2\n",
    "print(s_sa)"
   ]
  },
  {
   "cell_type": "code",
   "execution_count": null,
   "metadata": {},
   "outputs": [],
   "source": []
  }
 ],
 "metadata": {
  "kernelspec": {
   "display_name": "Python 3",
   "language": "python",
   "name": "python3"
  },
  "language_info": {
   "codemirror_mode": {
    "name": "ipython",
    "version": 3
   },
   "file_extension": ".py",
   "mimetype": "text/x-python",
   "name": "python",
   "nbconvert_exporter": "python",
   "pygments_lexer": "ipython3",
   "version": "3.5.4"
  }
 },
 "nbformat": 4,
 "nbformat_minor": 2
}
