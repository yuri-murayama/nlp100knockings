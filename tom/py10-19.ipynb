{
 "cells": [
  {
   "cell_type": "code",
   "execution_count": 20,
   "metadata": {},
   "outputs": [
    {
     "name": "stdout",
     "output_type": "stream",
     "text": [
      "24\n"
     ]
    }
   ],
   "source": [
    "print(len(open('hightemp.txt').readlines()))#ターミナルにてwc　ファイル名で確認\n"
   ]
  },
  {
   "cell_type": "code",
   "execution_count": 33,
   "metadata": {},
   "outputs": [
    {
     "name": "stdout",
     "output_type": "stream",
     "text": [
      "高知県 江川崎 41 2013-08-12\n",
      "埼玉県 熊谷 40.9 2007-08-16\n",
      "岐阜県 多治見 40.9 2007-08-16\n",
      "山形県 山形 40.8 1933-07-25\n",
      "山梨県 甲府 40.7 2013-08-10\n",
      "和歌山県 かつらぎ 40.6 1994-08-08\n",
      "静岡県 天竜 40.6 1994-08-04\n",
      "山梨県 勝沼 40.5 2013-08-10\n",
      "埼玉県 越谷 40.4 2007-08-16\n",
      "群馬県 館林 40.3 2007-08-16\n",
      "群馬県 上里見 40.3 1998-07-04\n",
      "愛知県 愛西 40.3 1994-08-05\n",
      "千葉県 牛久 40.2 2004-07-20\n",
      "静岡県 佐久間 40.2 2001-07-24\n",
      "愛媛県 宇和島 40.2 1927-07-22\n",
      "山形県 酒田 40.1 1978-08-03\n",
      "岐阜県 美濃 40 2007-08-16\n",
      "群馬県 前橋 40 2001-07-24\n",
      "千葉県 茂原 39.9 2013-08-11\n",
      "埼玉県 鳩山 39.9 1997-07-05\n",
      "大阪府 豊中 39.9 1994-08-08\n",
      "山梨県 大月 39.9 1990-07-19\n",
      "山形県 鶴岡 39.9 1978-08-03\n",
      "愛知県 名古屋 39.9 1942-08-02\n",
      "\n"
     ]
    }
   ],
   "source": [
    "import re\n",
    "\n",
    "with open('hightemp.txt', 'r') as file:#fileを開いて範囲を飛び出したら閉じる\n",
    "    \n",
    "    text =re.sub(r'\\t',' ',file.read())#ファイル内のタブをスペースに置換\n",
    "    print(text)"
   ]
  },
  {
   "cell_type": "code",
   "execution_count": 34,
   "metadata": {},
   "outputs": [],
   "source": [
    "#12. 1列目をcol1.txtに，2列目をcol2.txtに保存\n",
    "\n",
    "with open('hightemp.txt') as data_file, \\\n",
    "        open('col1.txt', 'w') as col1_file, \\\n",
    "        open('col2.txt', 'w') as col2_file:\n",
    "    for line in data_file:\n",
    "        cols = line.split('\\t')\n",
    "        col1_file.write(cols[0] + '\\n')\n",
    "        col2_file.write(cols[1] + '\\n')\n",
    "\n",
    "    "
   ]
  },
  {
   "cell_type": "code",
   "execution_count": 89,
   "metadata": {},
   "outputs": [],
   "source": [
    "#13. col1.txtとcol2.txtをマージ\n",
    "\n",
    "merge_list=[]\n",
    "\n",
    "with open('merge.txt','w') as file,\\\n",
    "        open('col1.txt', 'r') as col1_file, \\\n",
    "        open('col2.txt', 'r') as col2_file:\n",
    "    \n",
    "        col1 = readlines_file('col1.txt')\n",
    "        col2 = readlines_file('col2.txt')\n",
    "        \n",
    "        col1 = list(map(lambda x: x.strip(), col1))\n",
    "        col2 = list(map(lambda x: x.strip(), col2))\n",
    "        \n",
    "        for i in range(len(col1)):\n",
    "                merge_list.append(col1[i]+'\\t'+col2[i])\n",
    "                \n",
    "        for x in merge_list:\n",
    "            file.write(str(x)+'\\n')\n"
   ]
  },
  {
   "cell_type": "code",
   "execution_count": 103,
   "metadata": {},
   "outputs": [
    {
     "name": "stdout",
     "output_type": "stream",
     "text": [
      "Nを入力\n",
      "3\n"
     ]
    }
   ],
   "source": [
    "#自然数Nをコマンドライン引数などの手段で受け取り，入力のうち先頭のN行だけを表示せよ．\n",
    "print('Nを入力')\n",
    "N=int(input())\n",
    "print_list=[]\n",
    "\n",
    "with open('hightemp.txt', 'r') as file,\\\n",
    "        open('temp2.txt','w') as file2:\n",
    "    gyo_list=readlines_file('hightemp.txt')\n",
    "    for i in range(N):\n",
    "            print_list.append(gyo_list[i])\n",
    "    for x in print_list:\n",
    "        file2.write(str(x))\n",
    "        \n",
    "\n",
    "\n"
   ]
  },
  {
   "cell_type": "code",
   "execution_count": 106,
   "metadata": {},
   "outputs": [
    {
     "name": "stdout",
     "output_type": "stream",
     "text": [
      "Nを入力\n",
      "3\n"
     ]
    }
   ],
   "source": [
    "#自然数Nをコマンドライン引数などの手段で受け取り，入力のうち末尾のN行だけを表示せよ\n",
    "print('Nを入力')\n",
    "N=int(input())\n",
    "last=len(gyo_list)\n",
    "print_list=[]\n",
    "\n",
    "with open('hightemp.txt', 'r') as file,\\\n",
    "        open('temp3.txt','w') as file2:\n",
    "    gyo_list=readlines_file('hightemp.txt')\n",
    "    for i in range(last-N,last):\n",
    "            print_list.append(gyo_list[i])\n",
    "    for x in print_list:\n",
    "        file2.write(str(x))\n",
    "        "
   ]
  },
  {
   "cell_type": "code",
   "execution_count": 115,
   "metadata": {},
   "outputs": [
    {
     "name": "stdout",
     "output_type": "stream",
     "text": [
      "Nを入力\n",
      "5\n"
     ]
    }
   ],
   "source": [
    "#自然数Nをコマンドライン引数などの手段で受け取り，入力のファイルを行単位でN分割せよ．\n",
    "\n",
    "\n",
    "print('Nを入力')\n",
    "N=int(input())\n",
    "\n",
    "with open('hightemp.txt') as data_file:\n",
    "    lines = data_file.readlines()\n",
    "\n",
    "count = len(lines)\n",
    "unit = count // N  # 分割数\n",
    "\n",
    "for i, offset in enumerate(range(0, count, unit), 1):\n",
    "    with open('temp_{:02d}.txt'.format(i), mode='w') as out_file:\n",
    "        for line in lines[offset:offset + unit]:\n",
    "            out_file.write(line)"
   ]
  },
  {
   "cell_type": "code",
   "execution_count": 113,
   "metadata": {},
   "outputs": [
    {
     "name": "stdout",
     "output_type": "stream",
     "text": [
      "{'岐阜県', '静岡県', '愛知県', '千葉県', '愛媛県', '高知県', '群馬県', '埼玉県', '山梨県', '和歌山県', '大阪府', '山形県'}\n"
     ]
    }
   ],
   "source": [
    "#1列目の文字列の種類（異なる文字列の集合）を求めよ\n",
    "with open('col1.txt', 'r') as col1_file:\n",
    "    \n",
    "        col1 = readlines_file('col1.txt')\n",
    "        col1 = list(map(lambda x: x.strip(), col1))\n",
    "        col1=set(col1)\n",
    "        print(col1)"
   ]
  },
  {
   "cell_type": "code",
   "execution_count": 119,
   "metadata": {},
   "outputs": [
    {
     "name": "stdout",
     "output_type": "stream",
     "text": [
      "高知県\t江川崎\t41\t2013-08-12\n",
      "埼玉県\t熊谷\t40.9\t2007-08-16\n",
      "岐阜県\t多治見\t40.9\t2007-08-16\n",
      "山形県\t山形\t40.8\t1933-07-25\n",
      "山梨県\t甲府\t40.7\t2013-08-10\n",
      "和歌山県\tかつらぎ\t40.6\t1994-08-08\n",
      "静岡県\t天竜\t40.6\t1994-08-04\n",
      "山梨県\t勝沼\t40.5\t2013-08-10\n",
      "埼玉県\t越谷\t40.4\t2007-08-16\n",
      "群馬県\t館林\t40.3\t2007-08-16\n",
      "群馬県\t上里見\t40.3\t1998-07-04\n",
      "愛知県\t愛西\t40.3\t1994-08-05\n",
      "千葉県\t牛久\t40.2\t2004-07-20\n",
      "静岡県\t佐久間\t40.2\t2001-07-24\n",
      "愛媛県\t宇和島\t40.2\t1927-07-22\n",
      "山形県\t酒田\t40.1\t1978-08-03\n",
      "岐阜県\t美濃\t40\t2007-08-16\n",
      "群馬県\t前橋\t40\t2001-07-24\n",
      "千葉県\t茂原\t39.9\t2013-08-11\n",
      "埼玉県\t鳩山\t39.9\t1997-07-05\n",
      "大阪府\t豊中\t39.9\t1994-08-08\n",
      "山梨県\t大月\t39.9\t1990-07-19\n",
      "山形県\t鶴岡\t39.9\t1978-08-03\n",
      "愛知県\t名古屋\t39.9\t1942-08-02\n"
     ]
    }
   ],
   "source": [
    "#各行を3コラム目の数値の逆順で整列せよ（注意: 各行の内容は変更せずに並び替えよ）．\n",
    "lines = open( 'hightemp.txt').readlines()\n",
    "lines.sort(key=lambda line: float(line.split('\\t')[2]),reverse=True)\n",
    "\n",
    "for line in lines:\n",
    "    print(line, end='')\n"
   ]
  },
  {
   "cell_type": "code",
   "execution_count": 120,
   "metadata": {},
   "outputs": [
    {
     "name": "stdout",
     "output_type": "stream",
     "text": [
      "千葉県\t茂原\t39.9\t2013-08-11\n",
      "埼玉県\t鳩山\t39.9\t1997-07-05\n",
      "大阪府\t豊中\t39.9\t1994-08-08\n",
      "山梨県\t大月\t39.9\t1990-07-19\n",
      "山形県\t鶴岡\t39.9\t1978-08-03\n",
      "愛知県\t名古屋\t39.9\t1942-08-02\n",
      "岐阜県\t美濃\t40\t2007-08-16\n",
      "群馬県\t前橋\t40\t2001-07-24\n",
      "山形県\t酒田\t40.1\t1978-08-03\n",
      "千葉県\t牛久\t40.2\t2004-07-20\n",
      "静岡県\t佐久間\t40.2\t2001-07-24\n",
      "愛媛県\t宇和島\t40.2\t1927-07-22\n",
      "群馬県\t館林\t40.3\t2007-08-16\n",
      "群馬県\t上里見\t40.3\t1998-07-04\n",
      "愛知県\t愛西\t40.3\t1994-08-05\n",
      "埼玉県\t越谷\t40.4\t2007-08-16\n",
      "山梨県\t勝沼\t40.5\t2013-08-10\n",
      "和歌山県\tかつらぎ\t40.6\t1994-08-08\n",
      "静岡県\t天竜\t40.6\t1994-08-04\n",
      "山梨県\t甲府\t40.7\t2013-08-10\n",
      "山形県\t山形\t40.8\t1933-07-25\n",
      "埼玉県\t熊谷\t40.9\t2007-08-16\n",
      "岐阜県\t多治見\t40.9\t2007-08-16\n",
      "高知県\t江川崎\t41\t2013-08-12\n"
     ]
    }
   ],
   "source": [
    "#各行を3コラム目の数値の逆順で整列せよ（注意: 各行の内容は変更せずに並び替えよ）．\n",
    "lines = open( 'hightemp.txt').readlines()\n",
    "lines.sort(key=lambda line: float(line.split('\\t')[2]))\n",
    "\n",
    "for line in lines:\n",
    "    print(line, end='')"
   ]
  },
  {
   "cell_type": "code",
   "execution_count": 123,
   "metadata": {},
   "outputs": [
    {
     "name": "stdout",
     "output_type": "stream",
     "text": [
      "['高知県', '埼玉県', '岐阜県', '山形県', '山梨県', '和歌山県', '静岡県', '山梨県', '埼玉県', '群馬県', '群馬県', '愛知県', '千葉県', '静岡県', '愛媛県', '山形県', '岐阜県', '群馬県', '千葉県', '埼玉県', '大阪府', '山梨県', '山形県', '愛知県']\n",
      "群馬県\n",
      "埼玉県\n",
      "山梨県\n",
      "山形県\n",
      "岐阜県\n",
      "静岡県\n",
      "愛知県\n",
      "千葉県\n",
      "愛媛県\n",
      "高知県\n",
      "和歌山県\n",
      "大阪府\n"
     ]
    }
   ],
   "source": [
    "kens = [line.split()[0] for line in open('hightemp.txt').readlines()]\n",
    "print('\\n'.join(sorted(set(kens), key=lambda x: kens.count(x), reverse=True)))"
   ]
  },
  {
   "cell_type": "code",
   "execution_count": null,
   "metadata": {},
   "outputs": [],
   "source": []
  }
 ],
 "metadata": {
  "kernelspec": {
   "display_name": "Python 3",
   "language": "python",
   "name": "python3"
  },
  "language_info": {
   "codemirror_mode": {
    "name": "ipython",
    "version": 3
   },
   "file_extension": ".py",
   "mimetype": "text/x-python",
   "name": "python",
   "nbconvert_exporter": "python",
   "pygments_lexer": "ipython3",
   "version": "3.7.1"
  }
 },
 "nbformat": 4,
 "nbformat_minor": 2
}
